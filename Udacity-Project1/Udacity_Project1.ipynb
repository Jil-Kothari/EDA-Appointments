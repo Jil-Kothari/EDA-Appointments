{
  "nbformat": 4,
  "nbformat_minor": 0,
  "metadata": {
    "colab": {
      "name": "Udacity-Project1.ipynb",
      "provenance": []
    },
    "kernelspec": {
      "name": "python3",
      "display_name": "Python 3"
    }
  },
  "cells": [
    {
      "cell_type": "markdown",
      "metadata": {
        "id": "z6nUBAAS548B",
        "colab_type": "text"
      },
      "source": [
        "**Importing the libraries**"
      ]
    },
    {
      "cell_type": "code",
      "metadata": {
        "id": "U5uyg4p63Uea",
        "colab_type": "code",
        "colab": {}
      },
      "source": [
        "import pandas as pd\n",
        "import numpy as np\n",
        "import matplotlib.pyplot as plt"
      ],
      "execution_count": 0,
      "outputs": []
    },
    {
      "cell_type": "markdown",
      "metadata": {
        "id": "ozlvR31E6Dft",
        "colab_type": "text"
      },
      "source": [
        "**Reading the data sets**"
      ]
    },
    {
      "cell_type": "code",
      "metadata": {
        "id": "Q23SdeX26L_z",
        "colab_type": "code",
        "colab": {}
      },
      "source": [
        "global_temperature = pd.read_csv('global_data.csv')\n",
        "city_temperature = pd.read_csv('local.csv')"
      ],
      "execution_count": 0,
      "outputs": []
    },
    {
      "cell_type": "markdown",
      "metadata": {
        "id": "429dL7uD6YI9",
        "colab_type": "text"
      },
      "source": [
        "**Viewing the top 5 rows of each data set**"
      ]
    },
    {
      "cell_type": "code",
      "metadata": {
        "id": "hLabEyoz6fxN",
        "colab_type": "code",
        "colab": {
          "base_uri": "https://localhost:8080/",
          "height": 204
        },
        "outputId": "f00da157-88a9-4b73-fa56-b7f34019182a"
      },
      "source": [
        "global_temperature.head()"
      ],
      "execution_count": 4,
      "outputs": [
        {
          "output_type": "execute_result",
          "data": {
            "text/html": [
              "<div>\n",
              "<style scoped>\n",
              "    .dataframe tbody tr th:only-of-type {\n",
              "        vertical-align: middle;\n",
              "    }\n",
              "\n",
              "    .dataframe tbody tr th {\n",
              "        vertical-align: top;\n",
              "    }\n",
              "\n",
              "    .dataframe thead th {\n",
              "        text-align: right;\n",
              "    }\n",
              "</style>\n",
              "<table border=\"1\" class=\"dataframe\">\n",
              "  <thead>\n",
              "    <tr style=\"text-align: right;\">\n",
              "      <th></th>\n",
              "      <th>year</th>\n",
              "      <th>avg_temp</th>\n",
              "    </tr>\n",
              "  </thead>\n",
              "  <tbody>\n",
              "    <tr>\n",
              "      <th>0</th>\n",
              "      <td>1750</td>\n",
              "      <td>8.72</td>\n",
              "    </tr>\n",
              "    <tr>\n",
              "      <th>1</th>\n",
              "      <td>1751</td>\n",
              "      <td>7.98</td>\n",
              "    </tr>\n",
              "    <tr>\n",
              "      <th>2</th>\n",
              "      <td>1752</td>\n",
              "      <td>5.78</td>\n",
              "    </tr>\n",
              "    <tr>\n",
              "      <th>3</th>\n",
              "      <td>1753</td>\n",
              "      <td>8.39</td>\n",
              "    </tr>\n",
              "    <tr>\n",
              "      <th>4</th>\n",
              "      <td>1754</td>\n",
              "      <td>8.47</td>\n",
              "    </tr>\n",
              "  </tbody>\n",
              "</table>\n",
              "</div>"
            ],
            "text/plain": [
              "   year  avg_temp\n",
              "0  1750      8.72\n",
              "1  1751      7.98\n",
              "2  1752      5.78\n",
              "3  1753      8.39\n",
              "4  1754      8.47"
            ]
          },
          "metadata": {
            "tags": []
          },
          "execution_count": 4
        }
      ]
    },
    {
      "cell_type": "code",
      "metadata": {
        "id": "uIvR3oXY6lf5",
        "colab_type": "code",
        "colab": {
          "base_uri": "https://localhost:8080/",
          "height": 204
        },
        "outputId": "cf8dfde8-80dd-47f1-db2a-7f4ed540a23b"
      },
      "source": [
        "city_temperature.head()"
      ],
      "execution_count": 5,
      "outputs": [
        {
          "output_type": "execute_result",
          "data": {
            "text/html": [
              "<div>\n",
              "<style scoped>\n",
              "    .dataframe tbody tr th:only-of-type {\n",
              "        vertical-align: middle;\n",
              "    }\n",
              "\n",
              "    .dataframe tbody tr th {\n",
              "        vertical-align: top;\n",
              "    }\n",
              "\n",
              "    .dataframe thead th {\n",
              "        text-align: right;\n",
              "    }\n",
              "</style>\n",
              "<table border=\"1\" class=\"dataframe\">\n",
              "  <thead>\n",
              "    <tr style=\"text-align: right;\">\n",
              "      <th></th>\n",
              "      <th>year</th>\n",
              "      <th>city</th>\n",
              "      <th>country</th>\n",
              "      <th>avg_temp</th>\n",
              "    </tr>\n",
              "  </thead>\n",
              "  <tbody>\n",
              "    <tr>\n",
              "      <th>0</th>\n",
              "      <td>1743</td>\n",
              "      <td>Washington</td>\n",
              "      <td>United States</td>\n",
              "      <td>5.34</td>\n",
              "    </tr>\n",
              "    <tr>\n",
              "      <th>1</th>\n",
              "      <td>1744</td>\n",
              "      <td>Washington</td>\n",
              "      <td>United States</td>\n",
              "      <td>13.88</td>\n",
              "    </tr>\n",
              "    <tr>\n",
              "      <th>2</th>\n",
              "      <td>1745</td>\n",
              "      <td>Washington</td>\n",
              "      <td>United States</td>\n",
              "      <td>4.00</td>\n",
              "    </tr>\n",
              "    <tr>\n",
              "      <th>3</th>\n",
              "      <td>1746</td>\n",
              "      <td>Washington</td>\n",
              "      <td>United States</td>\n",
              "      <td>NaN</td>\n",
              "    </tr>\n",
              "    <tr>\n",
              "      <th>4</th>\n",
              "      <td>1747</td>\n",
              "      <td>Washington</td>\n",
              "      <td>United States</td>\n",
              "      <td>NaN</td>\n",
              "    </tr>\n",
              "  </tbody>\n",
              "</table>\n",
              "</div>"
            ],
            "text/plain": [
              "   year        city        country  avg_temp\n",
              "0  1743  Washington  United States      5.34\n",
              "1  1744  Washington  United States     13.88\n",
              "2  1745  Washington  United States      4.00\n",
              "3  1746  Washington  United States       NaN\n",
              "4  1747  Washington  United States       NaN"
            ]
          },
          "metadata": {
            "tags": []
          },
          "execution_count": 5
        }
      ]
    },
    {
      "cell_type": "markdown",
      "metadata": {
        "id": "W-nlxhPw6r8m",
        "colab_type": "text"
      },
      "source": [
        "**Finding out the moving averages for Global Data and Local Data**"
      ]
    },
    {
      "cell_type": "code",
      "metadata": {
        "id": "7-iyjPKC6vw3",
        "colab_type": "code",
        "colab": {}
      },
      "source": [
        "global_moving_average = global_temperature['avg_temp'].rolling(12).mean()\n",
        "local_moving_average = city_temperature['avg_temp'].rolling(12).mean()"
      ],
      "execution_count": 0,
      "outputs": []
    },
    {
      "cell_type": "markdown",
      "metadata": {
        "id": "egK49-wx7AOj",
        "colab_type": "text"
      },
      "source": [
        "**Plotting Graphs**"
      ]
    },
    {
      "cell_type": "code",
      "metadata": {
        "id": "0EgLpeEM7C9J",
        "colab_type": "code",
        "colab": {
          "base_uri": "https://localhost:8080/",
          "height": 295
        },
        "outputId": "37123825-0c0e-42c7-8281-238e3156ba5f"
      },
      "source": [
        "plt.plot(global_temperature['year'],global_moving_average,label='Global')\n",
        "plt.plot(city_temperature['year'],local_moving_average,label='Local')\n",
        "plt.legend()\n",
        "plt.xlabel(\"Over the years\")\n",
        "plt.ylabel(\"Range of Temperature\")\n",
        "plt.title(\"Citys Average Temperature\")\n",
        "plt.show()"
      ],
      "execution_count": 7,
      "outputs": [
        {
          "output_type": "display_data",
          "data": {
            "image/png": "[encoded data removed]",
            "text/plain": [
              "<Figure size 432x288 with 1 Axes>"
            ]
          },
          "metadata": {
            "tags": []
          }
        }
      ]
    },
    {
      "cell_type": "markdown",
      "metadata": {
        "id": "1j-RBABc7aoZ",
        "colab_type": "text"
      },
      "source": [
        "**Inference:\n",
        "1) Over here we have plotted the graph of moving average and tried to draw a comparision between the\n",
        "global and local data values and tried to understand the difference.\n",
        "2) The local temperatures aare represented by the orange line\n",
        "3) The global temperature is represented by blue line\n",
        "4) The local teperature increases continuously as time increases only decreasing for very few years in between\n",
        "5) The global temperature increases continously with time\n",
        "6) Global teperature decreased only significantly in the period 1800-1850\n",
        "7) The local temperature is very high as compared to the global temperature.\n",
        "8) Currently, local temperature is much higher than the current global temperature**\n"
      ]
    }
  ]
}